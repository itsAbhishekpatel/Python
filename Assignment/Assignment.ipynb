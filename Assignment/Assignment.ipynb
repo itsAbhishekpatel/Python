{
  "metadata": {
    "language_info": {
      "codemirror_mode": {
        "name": "python",
        "version": 3
      },
      "file_extension": ".py",
      "mimetype": "text/x-python",
      "name": "python",
      "nbconvert_exporter": "python",
      "pygments_lexer": "ipython3",
      "version": "3.8"
    },
    "kernelspec": {
      "name": "python",
      "display_name": "Python (Pyodide)",
      "language": "python"
    }
  },
  "nbformat_minor": 4,
  "nbformat": 4,
  "cells": [
    {
      "cell_type": "code",
      "source": "# Create a dict in which words are store corresponding to number \nones = {\n        0: '', 1: 'one', 2: 'two', 3: 'three', 4: 'four', 5: 'five', 6: 'six',\n        7: 'seven', 8: 'eight', 9: 'nine', 10: 'ten', 11: 'eleven', 12: 'twelve',\n        13: 'thirteen', 14: 'fourteen', 15: 'fifteen', 16: 'sixteen',\n        17: 'seventeen', 18: 'eighteen', 19: 'nineteen'}\ntens = {\n        2: 'twenty', 3: 'thirty', 4: 'forty', 5: 'fifty', 6: 'sixty',\n        7: 'seventy', 8: 'eighty', 9: 'ninety'}\nillions = {\n        1: 'thousand', 2: 'million', 3: 'billion', 4: 'trillion', 5: 'quadrillion',\n        6: 'quintillion', 7: 'sextillion', 8: 'septillion', 9: 'octillion',\n        10: 'nonillion', 11: 'decillion'}\n",
      "metadata": {
        "trusted": true
      },
      "execution_count": 16,
      "outputs": []
    },
    {
      "cell_type": "code",
      "source": " # Convert an integer in to it's word representation.\ndef say_number(i):\n        if i < 0:\n            return _join('negative', _say_number_pos(-i))\n        if i == 0:\n            return 'zero'\n        return _say_number_pos(i)",
      "metadata": {
        "trusted": true
      },
      "execution_count": 17,
      "outputs": []
    },
    {
      "cell_type": "code",
      "source": "def _say_number_pos(i):\n        if i < 20:\n            return ones[i]\n        if i < 100:\n            return _join(tens[i // 10], ones[i % 10])\n        if i < 1000:\n            return _divide(i, 100, 'hundred')\n        for illions_number, illions_name in illions.items():\n            if i < 1000**(illions_number + 1):\n                break\n        return _divide(i, 1000**illions_number, illions_name)",
      "metadata": {
        "trusted": true
      },
      "execution_count": 18,
      "outputs": []
    },
    {
      "cell_type": "code",
      "source": "def _divide(dividend, divisor, magnitude):\n        return _join(\n            _say_number_pos(dividend // divisor),\n            magnitude,\n            _say_number_pos(dividend % divisor),\n        )",
      "metadata": {
        "trusted": true
      },
      "execution_count": 19,
      "outputs": []
    },
    {
      "cell_type": "code",
      "source": "def _join(*args):\n        return ' '.join(filter(bool, args))",
      "metadata": {
        "trusted": true
      },
      "execution_count": 20,
      "outputs": []
    },
    {
      "cell_type": "code",
      "source": "number = 7845",
      "metadata": {
        "trusted": true
      },
      "execution_count": 30,
      "outputs": []
    },
    {
      "cell_type": "code",
      "source": "print(say_number(number).capitalize())",
      "metadata": {
        "trusted": true
      },
      "execution_count": 31,
      "outputs": [
        {
          "name": "stdout",
          "text": "Seven thousand eight hundred forty five\n",
          "output_type": "stream"
        }
      ]
    }
  ]
}